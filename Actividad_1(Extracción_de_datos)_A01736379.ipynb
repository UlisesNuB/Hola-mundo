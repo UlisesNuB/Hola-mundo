{
  "nbformat": 4,
  "nbformat_minor": 0,
  "metadata": {
    "colab": {
      "provenance": [],
      "authorship_tag": "ABX9TyNLhB2qfOphPl2S+79glN2S",
      "include_colab_link": true
    },
    "kernelspec": {
      "name": "python3",
      "display_name": "Python 3"
    },
    "language_info": {
      "name": "python"
    }
  },
  "cells": [
    {
      "cell_type": "markdown",
      "metadata": {
        "id": "view-in-github",
        "colab_type": "text"
      },
      "source": [
        "<a href=\"https://colab.research.google.com/github/UlisesNuB/Hola-mundo/blob/main/Actividad_1(Extracci%C3%B3n_de_datos)_A01736379.ipynb\" target=\"_parent\"><img src=\"https://colab.research.google.com/assets/colab-badge.svg\" alt=\"Open In Colab\"/></a>"
      ]
    },
    {
      "cell_type": "code",
      "execution_count": null,
      "metadata": {
        "id": "TvPRzsUCeC4k"
      },
      "outputs": [],
      "source": [
        "#Importamos librerias\n",
        "import pandas as pd\n",
        "import numpy as np\n",
        "import matplotlib.pyplot as plt\n",
        "import seaborn as sns\n",
        "import io"
      ]
    },
    {
      "cell_type": "code",
      "source": [
        "#Cargar archivo desde equipo\n",
        "from google.colab import files\n",
        "files.upload()"
      ],
      "metadata": {
        "id": "QImRYNfThrm2"
      },
      "execution_count": null,
      "outputs": []
    },
    {
      "cell_type": "code",
      "source": [
        "#Convertir dataframe\n",
        "df= pd.read_csv(\"CountryTable.csv\")\n",
        "df"
      ],
      "metadata": {
        "id": "vuRZD2IPhoj8"
      },
      "execution_count": null,
      "outputs": []
    },
    {
      "cell_type": "markdown",
      "source": [
        "Filtro 1 (por objeto)"
      ],
      "metadata": {
        "id": "kpDym2Ixj0kx"
      }
    },
    {
      "cell_type": "code",
      "source": [
        "#Filtro por objeto\n",
        "filtro1a=df[df[\"continent\"] == \"Africa\"]\n",
        "filtro1a\n",
        "#Con este filtro se limita el continente, el continente que quiero que muestre es Africa.\n",
        "\n",
        "#Convertir archivo filtrado a CSV\n",
        "filtro1a.to_csv(\"filtro1a.csv\")\n",
        "\n",
        "#Descargar archivo filtrado en csv\n",
        "from google.colab import files\n",
        "\n",
        "files.download(\"filtro1a.csv\")"
      ],
      "metadata": {
        "colab": {
          "base_uri": "https://localhost:8080/",
          "height": 17
        },
        "id": "jcivqA8lhlBQ",
        "outputId": "bad818b1-a181-490e-d8ac-034c702174a0"
      },
      "execution_count": 7,
      "outputs": [
        {
          "output_type": "display_data",
          "data": {
            "text/plain": [
              "<IPython.core.display.Javascript object>"
            ],
            "application/javascript": [
              "\n",
              "    async function download(id, filename, size) {\n",
              "      if (!google.colab.kernel.accessAllowed) {\n",
              "        return;\n",
              "      }\n",
              "      const div = document.createElement('div');\n",
              "      const label = document.createElement('label');\n",
              "      label.textContent = `Downloading \"${filename}\": `;\n",
              "      div.appendChild(label);\n",
              "      const progress = document.createElement('progress');\n",
              "      progress.max = size;\n",
              "      div.appendChild(progress);\n",
              "      document.body.appendChild(div);\n",
              "\n",
              "      const buffers = [];\n",
              "      let downloaded = 0;\n",
              "\n",
              "      const channel = await google.colab.kernel.comms.open(id);\n",
              "      // Send a message to notify the kernel that we're ready.\n",
              "      channel.send({})\n",
              "\n",
              "      for await (const message of channel.messages) {\n",
              "        // Send a message to notify the kernel that we're ready.\n",
              "        channel.send({})\n",
              "        if (message.buffers) {\n",
              "          for (const buffer of message.buffers) {\n",
              "            buffers.push(buffer);\n",
              "            downloaded += buffer.byteLength;\n",
              "            progress.value = downloaded;\n",
              "          }\n",
              "        }\n",
              "      }\n",
              "      const blob = new Blob(buffers, {type: 'application/binary'});\n",
              "      const a = document.createElement('a');\n",
              "      a.href = window.URL.createObjectURL(blob);\n",
              "      a.download = filename;\n",
              "      div.appendChild(a);\n",
              "      a.click();\n",
              "      div.remove();\n",
              "    }\n",
              "  "
            ]
          },
          "metadata": {}
        },
        {
          "output_type": "display_data",
          "data": {
            "text/plain": [
              "<IPython.core.display.Javascript object>"
            ],
            "application/javascript": [
              "download(\"download_0d24f6be-3af0-44f2-a79f-fadb1ea04049\", \"filtro1a.csv\", 7794)"
            ]
          },
          "metadata": {}
        }
      ]
    },
    {
      "cell_type": "code",
      "source": [
        "filtro1b=df[df[\"local_name\"] == \"Angola\"]\n",
        "filtro1b\n",
        "#Con este filtro se limita el local_name, quiero que se muestre Angola\n",
        "\n",
        "#Convertir archivo filtrado a CSV\n",
        "filtro1b.to_csv(\"filtro1b.csv\")\n",
        "\n",
        "#Descargar archivo filtrado en csv\n",
        "from google.colab import files\n",
        "\n",
        "files.download(\"filtro1b.csv\")"
      ],
      "metadata": {
        "colab": {
          "base_uri": "https://localhost:8080/",
          "height": 17
        },
        "id": "GADzoDX-hQmN",
        "outputId": "e26e17eb-b9fc-467d-f039-31a0fa02bc8a"
      },
      "execution_count": 8,
      "outputs": [
        {
          "output_type": "display_data",
          "data": {
            "text/plain": [
              "<IPython.core.display.Javascript object>"
            ],
            "application/javascript": [
              "\n",
              "    async function download(id, filename, size) {\n",
              "      if (!google.colab.kernel.accessAllowed) {\n",
              "        return;\n",
              "      }\n",
              "      const div = document.createElement('div');\n",
              "      const label = document.createElement('label');\n",
              "      label.textContent = `Downloading \"${filename}\": `;\n",
              "      div.appendChild(label);\n",
              "      const progress = document.createElement('progress');\n",
              "      progress.max = size;\n",
              "      div.appendChild(progress);\n",
              "      document.body.appendChild(div);\n",
              "\n",
              "      const buffers = [];\n",
              "      let downloaded = 0;\n",
              "\n",
              "      const channel = await google.colab.kernel.comms.open(id);\n",
              "      // Send a message to notify the kernel that we're ready.\n",
              "      channel.send({})\n",
              "\n",
              "      for await (const message of channel.messages) {\n",
              "        // Send a message to notify the kernel that we're ready.\n",
              "        channel.send({})\n",
              "        if (message.buffers) {\n",
              "          for (const buffer of message.buffers) {\n",
              "            buffers.push(buffer);\n",
              "            downloaded += buffer.byteLength;\n",
              "            progress.value = downloaded;\n",
              "          }\n",
              "        }\n",
              "      }\n",
              "      const blob = new Blob(buffers, {type: 'application/binary'});\n",
              "      const a = document.createElement('a');\n",
              "      a.href = window.URL.createObjectURL(blob);\n",
              "      a.download = filename;\n",
              "      div.appendChild(a);\n",
              "      a.click();\n",
              "      div.remove();\n",
              "    }\n",
              "  "
            ]
          },
          "metadata": {}
        },
        {
          "output_type": "display_data",
          "data": {
            "text/plain": [
              "<IPython.core.display.Javascript object>"
            ],
            "application/javascript": [
              "download(\"download_5ff31cd2-858e-47d0-9bc6-f1aec160e3eb\", \"filtro1b.csv\", 281)"
            ]
          },
          "metadata": {}
        }
      ]
    },
    {
      "cell_type": "markdown",
      "source": [
        "Filtro 2 (por filas)"
      ],
      "metadata": {
        "id": "Xbhw910vjtGt"
      }
    },
    {
      "cell_type": "code",
      "source": [
        "#Con este filtro se busca la fila 50,70 y 80 de la tabla de datos con todas sus columnas correspondientes\n",
        "filtro2a=df.iloc[[50,70,80],:]\n",
        "filtro2a\n",
        "\n",
        "#Convertir archivo filtrado a csv\n",
        "filtro2a.to_csv(\"Filtro2a.csv\")\n",
        "\n",
        "#Descargar archivo filtrado en csv\n",
        "from google.colab import files\n",
        "files.download(\"Filtro2a.csv\")"
      ],
      "metadata": {
        "id": "89ANFMBNjXi-"
      },
      "execution_count": null,
      "outputs": []
    },
    {
      "cell_type": "code",
      "source": [
        "#Con este filtro se busca de la fila 50 al 80 de la tabla de datos con todas sus columnas correspondientes\n",
        "filtro2b=df.iloc[50:80,:]\n",
        "filtro2b\n",
        "\n",
        "#Convertir archivo filtrado a csv\n",
        "filtro2b.to_csv(\"Filtro2b.csv\")\n",
        "\n",
        "#Descargar archivo filtrado en csv\n",
        "from google.colab import files\n",
        "files.download(\"Filtro2b.csv\")"
      ],
      "metadata": {
        "id": "uFYZVYe9jlBK"
      },
      "execution_count": null,
      "outputs": []
    },
    {
      "cell_type": "markdown",
      "source": [
        "Filtro3 (columnas)"
      ],
      "metadata": {
        "id": "qRgUptGLldq4"
      }
    },
    {
      "cell_type": "code",
      "source": [
        "#Filtro por columnas\n",
        "filtro3a=df.iloc[:,4:7]\n",
        "filtro3a\n",
        "#Convertir archivo filtrado a CSV\n",
        "filtro3a.to_csv('FiltroColumna1.csv')\n",
        "#descargar archivo filtrado en csv\n",
        "from google.colab import files\n",
        "files.download('FiltroColumna1.csv')"
      ],
      "metadata": {
        "id": "5u1rYI9UlhFJ"
      },
      "execution_count": null,
      "outputs": []
    },
    {
      "cell_type": "code",
      "source": [
        "#Filtro por columnas\n",
        "filtro3b=df.iloc[:,3:5]\n",
        "filtro3b\n",
        "#Convertir archivo filtrado a CSV\n",
        "filtro3b.to_csv('FiltroColumna2.csv')\n",
        "#descargar archivo filtrado en csv\n",
        "from google.colab import files\n",
        "files.download('FiltroColumna2.csv')"
      ],
      "metadata": {
        "id": "w4KfwFMllhl6"
      },
      "execution_count": null,
      "outputs": []
    },
    {
      "cell_type": "markdown",
      "source": [
        "Filtro 4 (columna vs filas)"
      ],
      "metadata": {
        "id": "YDbfV62zkO1s"
      }
    },
    {
      "cell_type": "code",
      "source": [
        "#filtro columnas.vs.filas\n",
        "#paso1: se tiene que leer el contenido de archivo \n",
        "from google.colab import files \n",
        "uploaded=files.upload()\n",
        "df = pd.read_csv(io.BytesIO(uploaded['CountryTable.csv']), index_col=1)\n",
        "#paso 2: aplicamos filas vs columnas en base a ciertas filas seleccionadas \n",
        "filtro_cvf=df.loc[[\"Afghanistan\",\"Croatia\"], [\"independence_year\"]]\n",
        "filtro_cvf\n",
        "\n",
        "#Convertir archivo filtrado a csv\n",
        "filtro2a.to_csv(\"filtro_cvf.csv\")\n",
        "\n",
        "#Descargar archivo filtrado en csv\n",
        "from google.colab import files\n",
        "files.download(\"filtro_cvs.csv\")"
      ],
      "metadata": {
        "id": "bGFWyTIbkVQs"
      },
      "execution_count": null,
      "outputs": []
    },
    {
      "cell_type": "code",
      "source": [
        "#lo mismo pero con otros valores a inspeccionar\n",
        "from google.colab import files \n",
        "uploaded=files.upload()\n",
        "df1 = pd.read_csv(io.BytesIO(uploaded['CountryTable.csv']), index_col=2)\n",
        "#el valor 2 define el numero de columna a analizar\n",
        "#paso 2: aplicamos filas vs columnas \n",
        "filtro_cvf2=df1.loc[[\"Asia\",\"Africa\"], [\"life_expectancy\"]]\n",
        "filtro_cvf2\n",
        "\n",
        "#Convertir archivo filtrado a csv\n",
        "filtro2a.to_csv(\"filtro_cvs2.csv\")\n",
        "\n",
        "#Descargar archivo filtrado en csv\n",
        "from google.colab import files\n",
        "files.download(\"filtro_cvs2.csv\")"
      ],
      "metadata": {
        "id": "x-jJD-4_kVwY"
      },
      "execution_count": null,
      "outputs": []
    },
    {
      "cell_type": "markdown",
      "source": [
        "Filtro5 (cabecera)"
      ],
      "metadata": {
        "id": "x_-e3sMmkBKs"
      }
    },
    {
      "cell_type": "code",
      "source": [
        "#En este filtro se muestran las primeras 10 filas y columnas de nuestra tabla de datos\n",
        "filtro5a=df.head(10)\n",
        "filtro5a\n",
        "#Convertir archivo filtrado a CSV\n",
        "filtro5a.to_csv('FiltroCabecera1.csv')\n",
        "#descargar archivo filtrado en csv\n",
        "from google.colab import files\n",
        "files.download('FiltroCabecera1.csv')"
      ],
      "metadata": {
        "id": "nbqV_GMQkFIF"
      },
      "execution_count": null,
      "outputs": []
    },
    {
      "cell_type": "code",
      "source": [
        "#En este filtro se muestran las primeras 5 filas y columnas de nuestra tabla de datos\n",
        "filtro5b=df.head()\n",
        "filtro5b\n",
        "\n",
        "#Convertir archivo filtrado a CSV\n",
        "filtro5b.to_csv('FiltroCabecera2.csv')\n",
        "\n",
        "#descargar archivo filtrado en csv\n",
        "from google.colab import files\n",
        "files.download('FiltroCabecera2.csv')"
      ],
      "metadata": {
        "id": "kXv70fNFkLW8"
      },
      "execution_count": null,
      "outputs": []
    },
    {
      "cell_type": "markdown",
      "source": [
        "Filtro6 (comparación)"
      ],
      "metadata": {
        "id": "emAwQ0ZCkqKA"
      }
    },
    {
      "cell_type": "code",
      "source": [
        "#Filtro por comparación\n",
        "filtro6a=df[df[\"population\"]>=2000000]\n",
        "filtro6a\n",
        "#Convertir archivo filtrado a CSV\n",
        "filtro6a.to_csv('FiltroComparacion1.csv')\n",
        "#descargar archivo filtrado en csv\n",
        "from google.colab import files\n",
        "files.download('FiltroComparacion1.csv')"
      ],
      "metadata": {
        "id": "ihaIwRlUlpMi"
      },
      "execution_count": null,
      "outputs": []
    },
    {
      "cell_type": "code",
      "source": [
        "#Filtro por comparación\n",
        "filtro6b=df[df[\"surface_area\"]<200]\n",
        "filtro6b\n",
        "#Convertir archivo filtrado a CSV\n",
        "filtro6b.to_csv('FiltroComparación2.csv')\n",
        "#descargar archivo filtrado en csv\n",
        "from google.colab import files\n",
        "files.download('FiltroComparación2.csv')"
      ],
      "metadata": {
        "id": "8xjk15y2lppX"
      },
      "execution_count": null,
      "outputs": []
    },
    {
      "cell_type": "markdown",
      "source": [
        "Filtro7 (Y)"
      ],
      "metadata": {
        "id": "ibLKnZnJkxt3"
      }
    },
    {
      "cell_type": "code",
      "source": [
        "#filtro Y/and\n",
        "#Este filtro muestra todas las filas de datos que cumplen con la condición de que la región sea en América sur y un área superficial menor o igual a 100000\n",
        "filtroAnd=df[(df['region']=='South America')&(df['surface_area']<=100000)]\n",
        "filtroAnd\n",
        "\n",
        "#Convertir archivo filtrado a CSV\n",
        "filtroAnd.to_csv('FiltroAnd1.csv')\n",
        "\n",
        "#descargar archivo filtrado en csv\n",
        "from google.colab import files\n",
        "files.download('FiltroAnd1.csv')"
      ],
      "metadata": {
        "id": "iEUriZ__nvPb"
      },
      "execution_count": null,
      "outputs": []
    },
    {
      "cell_type": "code",
      "source": [
        "#filtro Y/and\n",
        "#Este filtro muestra todas las filas de datos que cumplen con la condición de que la población del país sea mayor a 1000000 y que sea una república\n",
        "filtroAnd2=df[(df['population']>1000000)&(df['government_form']=='Republic')]\n",
        "filtroAnd2\n",
        "\n",
        "#Convertir archivo filtrado a CSV\n",
        "filtroAnd2.to_csv('FiltroAnd2.csv')\n",
        "\n",
        "#descargar archivo filtrado en csv\n",
        "from google.colab import files\n",
        "files.download('FiltroAnd2.csv')"
      ],
      "metadata": {
        "id": "fFUfTShPnvn2"
      },
      "execution_count": null,
      "outputs": []
    },
    {
      "cell_type": "markdown",
      "source": [
        "Filtro8 (o)"
      ],
      "metadata": {
        "id": "rQqE9ScTl4LK"
      }
    },
    {
      "cell_type": "code",
      "source": [
        "#Filtro o\n",
        "filtro8a=df[(df[\"independence_year\"] >= 1900) | (df[\"government_form\"] == \"Republic\")]\n",
        "filtro8a\n",
        "#Convertir archivo filtrado a CSV\n",
        "filtro8a.to_csv('filtro8a.csv')\n",
        "#descargar archivo filtrado en csv\n",
        "from google.colab import files\n",
        "files.download('filtro8a.csv')\n",
        "#Este filtro delimita que el independence_year sea mayor o igual a 1900 o que el government_form sea igual a republic"
      ],
      "metadata": {
        "id": "rTyKOiI2mOz6"
      },
      "execution_count": null,
      "outputs": []
    },
    {
      "cell_type": "code",
      "source": [
        "#Filtro o\n",
        "filtro8b=df[(df[\"gnp\"] > 2000) | (df[\"local_name\"] == \"Congo\")]\n",
        "filtro8b\n",
        "#Convertir archivo filtrado a CSV\n",
        "filtro8b.to_csv('filtro8b.csv')\n",
        "#descargar archivo filtrado en csv\n",
        "from google.colab import files\n",
        "files.download('filtro8b.csv')\n",
        "#Este filtro limita que el gnp sea mayor a 2000 o el local name sea Congo"
      ],
      "metadata": {
        "id": "LhEZ6T_XmPLo"
      },
      "execution_count": null,
      "outputs": []
    },
    {
      "cell_type": "markdown",
      "source": [
        "Filtro9 (not)"
      ],
      "metadata": {
        "id": "xjAm_2ril9KM"
      }
    },
    {
      "cell_type": "code",
      "source": [
        "#filtro not, el escoger entre uno y otro\n",
        "filtro_not=df[~(df[\"surface_area\"] >= 2020)& ~(df[\"independence_year\"] > 1910)]\n",
        "#se seleccionan los valores que no se quieren o requieren para la comparacion. \n",
        "filtro_not\n",
        "#Convertir archivo filtrado a CSV\n",
        "filtro_not.to_csv('filtro_not.csv')\n",
        "#descargar archivo filtrado en csv\n",
        "from google.colab import files\n",
        "files.download('filtro_not.csv')"
      ],
      "metadata": {
        "id": "JyiMqLibn55a"
      },
      "execution_count": null,
      "outputs": []
    },
    {
      "cell_type": "code",
      "source": [
        "filtro_not1=df[~(df[\"population\"] > 100000)& ~(df[\"gnp\"] > 100)]\n",
        "filtro_not1\n",
        "#se seleccionan los valores que no se quieren o requieren para la comparacion. \n",
        "\n",
        "filtro_not1.to_csv('filtronot2.csv')\n",
        "#descargar archivo filtrado en csv\n",
        "from google.colab import files\n",
        "files.download('filtronot2.csv')\n",
        "#Convertir archivo filtrado a CSV"
      ],
      "metadata": {
        "id": "DQZGXHA5n6Mg"
      },
      "execution_count": null,
      "outputs": []
    }
  ]
}